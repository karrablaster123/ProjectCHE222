{
 "cells": [
  {
   "cell_type": "markdown",
   "id": "99f1cef8-b9d1-40c2-97e2-0975eb433565",
   "metadata": {},
   "source": [
    "## Work on Li Battery thermal runaway model\n",
    "\n",
    "### Research - Scenario 1\n",
    "- Three starting temperatures - 80 degrees C, 100 degrees C, 130 degrees C\n",
    "- n = 0.2, 0.333, 0.5, 1.0\n",
    "- Second term contribution omitted\n",
    "- Parameters: \n",
    "    - $\\frac{h_{1}}{C}$ = 150$^{\\circ}$C\n",
    "    - $A_{1}$ = 1.25 x $10^{17}$ $min^{-1}$\n",
    "    - $E_{1}$= 1.4 eV\n",
    "    - $\\frac{h_{1}}{C}x_{fo}$ = 15$^{\\circ}$C\n",
    "    - Boltzmann Constant($k_{B}$) = 8.617 x $10^{-5}$ eV $K^{-1}$\n",
    "- Equation\n",
    "    - $\\frac{dT}{dt}$ = $\\frac{h_{1}}{C}x^{n}_{fo}A_{1}e^{-\\frac{E_{1}}{k_{B}T}}$"
   ]
  },
  {
   "cell_type": "code",
   "execution_count": 28,
   "id": "1c41e361-2f1d-4e9c-aa7a-3ead4ab40259",
   "metadata": {
    "tags": []
   },
   "outputs": [
    {
     "name": "stdout",
     "output_type": "stream",
     "text": [
      "150 1.4 1.25e+17 8.617000000000001e-05 0.5 353\n",
      "0.06087506081247796\n"
     ]
    }
   ],
   "source": [
    "#Python Code\n",
    "#K = h1/C\n",
    "import numpy as np\n",
    "\n",
    "def dTdt(K, x_f, E_1, A_1, K_B, T0, n):\n",
    "    return np.exp(-E_1/(K_B*T0))*A_1*K*np.power(x_f, n)\n",
    "\n",
    "K = 150 #degrees Celsius\n",
    "x_f = 0.1\n",
    "E_1 = 1.4 #eV\n",
    "A_1 = 1.25 * pow(10, 17)\n",
    "K_B = 8.617 * pow(10, -5)\n",
    "T0 = 80+273\n",
    "n = [0.2, 0.333, 0.5, 1]\n",
    "\n",
    "print(K, E_1, A_1, K_B, n[2], T0) #All vars\n",
    "print(dTdt(K, x_f, E_1, A_1, K_B, T0, n[2]))\n",
    "\n",
    "\n",
    "\n",
    "\n"
   ]
  },
  {
   "cell_type": "code",
   "execution_count": null,
   "id": "01946cd4-cedc-4ff3-9502-3d1f1d24822e",
   "metadata": {},
   "outputs": [],
   "source": []
  }
 ],
 "metadata": {
  "kernelspec": {
   "display_name": "Python 3 (ipykernel)",
   "language": "python",
   "name": "python3"
  },
  "language_info": {
   "codemirror_mode": {
    "name": "ipython",
    "version": 3
   },
   "file_extension": ".py",
   "mimetype": "text/x-python",
   "name": "python",
   "nbconvert_exporter": "python",
   "pygments_lexer": "ipython3",
   "version": "3.9.7"
  }
 },
 "nbformat": 4,
 "nbformat_minor": 5
}
